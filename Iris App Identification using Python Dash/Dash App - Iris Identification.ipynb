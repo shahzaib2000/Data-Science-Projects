{
 "cells": [
  {
   "cell_type": "markdown",
   "metadata": {},
   "source": [
    "### Shahzaib Amir\n",
    "### Homework 15\n",
    "### sa05578@st.habib.edu.pk"
   ]
  },
  {
   "cell_type": "code",
   "execution_count": 2,
   "metadata": {},
   "outputs": [
    {
     "name": "stdout",
     "output_type": "stream",
     "text": [
      "Dash is running on http://127.0.0.1:8050/\n",
      "\n",
      "Dash is running on http://127.0.0.1:8050/\n",
      "\n",
      " * Serving Flask app '__main__' (lazy loading)\n",
      " * Environment: production\n",
      "\u001b[31m   WARNING: This is a development server. Do not use it in a production deployment.\u001b[0m\n",
      "\u001b[2m   Use a production WSGI server instead.\u001b[0m\n",
      " * Debug mode: on\n"
     ]
    }
   ],
   "source": [
    "import dash\n",
    "from dash import Dash, dcc, html, Input, Output\n",
    "import plotly.express as px\n",
    "import pandas as pd\n",
    "\n",
    "\n",
    "external_stylesheets = [\n",
    "    {\n",
    "        \"href\": \"https://fonts.googleapis.com/css2?\"\n",
    "        \"family=Lato:wght@400;700&display=swap\",\n",
    "        \"rel\": \"stylesheet\",\n",
    "    },\n",
    "]\n",
    "app = dash.Dash(__name__, external_stylesheets = external_stylesheets)\n",
    "app.title = \"Flower Species\"\n",
    "\n",
    "app.layout = html.Div([\n",
    "    html.H4('Analysis of Iris Data Using Scatter Matrix', style = {\n",
    "                'font_family': 'cursive',\n",
    "                'font_size': '46px',\n",
    "                'text_align': 'center'\n",
    "            }),\n",
    "    dcc.Dropdown(\n",
    "        id=\"dropdown\",\n",
    "        options=['sepal_length', 'sepal_width', 'petal_length', 'petal_width'],\n",
    "        value=['sepal_length', 'sepal_width'],\n",
    "        multi=True\n",
    "    ),\n",
    "    dcc.Graph(id=\"graph\"),\n",
    "])\n",
    "\n",
    "\n",
    "@app.callback(\n",
    "    Output(\"graph\", \"figure\"), \n",
    "    Input(\"dropdown\", \"value\"))\n",
    "def update_bar_chart(dims):\n",
    "    df = pd.read_csv('iris.csv')\n",
    "    fig = px.scatter_matrix(\n",
    "        df, dimensions=dims, color=\"species\")\n",
    "    return fig\n",
    "\n",
    "\n",
    "app.run_server(debug=True, use_reloader=False)\n",
    "\n",
    "\n",
    "\n",
    "### References:\n",
    "### https://community.plotly.com/t/dash-table-change-font-and-size/20326/2\n",
    "### https://plotly.com/python/plotly-express/\n",
    "### https://plotly.com/python-api-reference/generated/plotly.data.html#plotly.data.medals_wide\n",
    "### https://realpython.com/python-dash/\n",
    "### https://dash.plotly.com/"
   ]
  }
 ],
 "metadata": {
  "interpreter": {
   "hash": "d4a48a2dd02d696d9a8713795c83e6a43bdbda7a6870083fdbb39ea25223dee1"
  },
  "kernelspec": {
   "display_name": "Python 3.8.8 64-bit",
   "language": "python",
   "name": "python3"
  },
  "language_info": {
   "codemirror_mode": {
    "name": "ipython",
    "version": 3
   },
   "file_extension": ".py",
   "mimetype": "text/x-python",
   "name": "python",
   "nbconvert_exporter": "python",
   "pygments_lexer": "ipython3",
   "version": "3.8.8"
  },
  "orig_nbformat": 4
 },
 "nbformat": 4,
 "nbformat_minor": 2
}
